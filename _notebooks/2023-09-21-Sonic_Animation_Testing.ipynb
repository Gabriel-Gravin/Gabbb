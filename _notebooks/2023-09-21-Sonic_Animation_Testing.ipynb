{
 "cells": [
  {
   "attachments": {},
   "cell_type": "raw",
   "metadata": {},
   "source": [
    "---\n",
    "toc: true\n",
    "comments: true\n",
    "layout: post\n",
    "title: Sonic Animation Testing\n",
    "description: Place to test code for sonic animation\n",
    "courses: { compsci: {week: 5} }\n",
    "type: hacks\n",
    "---"
   ]
  },
  {
   "cell_type": "code",
   "execution_count": 19,
   "metadata": {
    "vscode": {
     "languageId": "html"
    }
   },
   "outputs": [
    {
     "ename": "SyntaxError",
     "evalue": "invalid syntax (1422148523.py, line 1)",
     "output_type": "error",
     "traceback": [
      "\u001b[0;36m  File \u001b[0;32m\"/tmp/ipykernel_22896/1422148523.py\"\u001b[0;36m, line \u001b[0;32m1\u001b[0m\n\u001b[0;31m    <body>\u001b[0m\n\u001b[0m    ^\u001b[0m\n\u001b[0;31mSyntaxError\u001b[0m\u001b[0;31m:\u001b[0m invalid syntax\n"
     ]
    }
   ],
   "source": [
    "<body>\n",
    "    <div>\n",
    "        <canvas id=\"spriteContainer\">\n",
    "            <img id=\"dogSprite\" src=\"/vscode/Gabbb/images/dogSprites.png\">\n",
    "        </canvas>\n",
    "        <div id=\"controls\">\n",
    "            <input type=\"radio\" name=\"animation\" id=\"idle\" checked>\n",
    "            <label for=\"idle\">Idle</label><br>\n",
    "        </div>\n",
    "    </div>\n",
    "</body>\n",
    "<script>\n",
    "    window.addEventListener('load', function () {\n",
    "        const canvas = document.getElementById('spriteContainer');\n",
    "        const ctx = canvas.getContext('2d');\n",
    "\n",
    "        const SPRITE_WIDTH = 160;\n",
    "        const SPRITE_HEIGHT = 144;\n",
    "        const SCALE_FACTOR = 2;\n",
    "        const FRAME_LIMIT = 48;\n",
    "        const FRAME_RATE = 15;\n",
    "\n",
    "        canvas.width = SPRITE_WIDTH * SCALE_FACTOR;\n",
    "        canvas.height = SPRITE_HEIGHT * SCALE_FACTOR;\n",
    "\n",
    "        class Sonic {\n",
    "            constructor() {\n",
    "                this.image = document.getElementById(\"sonicSprite\");\n",
    "                this.spriteWidth = SPRITE_WIDTH;\n",
    "                this.spriteHeight = SPRITE_HEIGHT;\n",
    "                this.width = this.spriteWidth;\n",
    "                this.height = this.spriteHeight;\n",
    "                this.x = 0;\n",
    "                this.y = 0;\n",
    "                this.scale = 1;\n",
    "                this.minFrame = 0;\n",
    "                this.maxFrame = FRAME_LIMIT;\n",
    "                this.frameX = 0;\n",
    "                this.frameY = 0;\n",
    "            }\n",
    "\n",
    "            draw(context) {\n",
    "                context.drawImage(\n",
    "                    this.image,\n",
    "                    this.frameX * this.spriteWidth,\n",
    "                    this.frameY * this.spriteHeight,\n",
    "                    this.spriteWidth,\n",
    "                    this.spriteHeight,\n",
    "                    this.x,\n",
    "                    this.y,\n",
    "                    this.width * this.scale,\n",
    "                    this.height * this.scale\n",
    "                );\n",
    "            }\n",
    "        }\n",
    "    });\n",
    "</script>\n"
   ]
  }
 ],
 "metadata": {
  "kernelspec": {
   "display_name": "base",
   "language": "python",
   "name": "python3"
  },
  "language_info": {
   "codemirror_mode": {
    "name": "ipython",
    "version": 3
   },
   "file_extension": ".py",
   "mimetype": "text/x-python",
   "name": "python",
   "nbconvert_exporter": "python",
   "pygments_lexer": "ipython3",
   "version": "3.10.12"
  },
  "orig_nbformat": 4
 },
 "nbformat": 4,
 "nbformat_minor": 2
}
